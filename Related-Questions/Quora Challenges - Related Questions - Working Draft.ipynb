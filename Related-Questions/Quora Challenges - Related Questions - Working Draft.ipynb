{
 "cells": [
  {
   "cell_type": "code",
   "execution_count": 2,
   "metadata": {
    "collapsed": true
   },
   "outputs": [],
   "source": [
    "# This is a solution for the Quora challenge named \"Related Questions\" at https://www.quora.com/challenges\n",
    "import numpy as np"
   ]
  },
  {
   "cell_type": "code",
   "execution_count": 3,
   "metadata": {
    "collapsed": false
   },
   "outputs": [
    {
     "name": "stdout",
     "output_type": "stream",
     "text": [
      "Enter the number of questions: 9\n",
      "The number of questions(N) =  9\n"
     ]
    }
   ],
   "source": [
    "# Create a function that obtains a value for N and checks it is within the constraints of 1 and 100,000\n",
    "def get_N():\n",
    "    N = int(input(\"Enter the number of questions: \"))\n",
    "    if N < 1 or N >= np.power(10,5):\n",
    "        print (\"Invalid number of questions, please enter between 1 and 100,000\")\n",
    "        get_N()\n",
    "    else:\n",
    "        print (\"The number of questions(N) = \", N)\n",
    "        return N\n",
    "N = get_N()"
   ]
  },
  {
   "cell_type": "code",
   "execution_count": 4,
   "metadata": {
    "collapsed": false
   },
   "outputs": [
    {
     "name": "stdout",
     "output_type": "stream",
     "text": [
      "Enter the time to read question 1: 1\n",
      "Enter the time to read question 2: 2\n",
      "Enter the time to read question 3: 3\n",
      "Enter the time to read question 4: 4\n",
      "Enter the time to read question 5: 5\n",
      "Enter the time to read question 6: 6\n",
      "Enter the time to read question 7: 7\n",
      "Enter the time to read question 8: 8\n",
      "Enter the time to read question 9: 9\n",
      "[1, 2, 3, 4, 5, 6, 7, 8, 9]\n"
     ]
    }
   ],
   "source": [
    "# Create a function that obtains a value of T\n",
    "def get_T():\n",
    "    T = []\n",
    "    for i in range (0, N):\n",
    "        T.append(0)\n",
    "    for i in range (0, N):\n",
    "        Q_time = int(input(\"Enter the time to read question {}: \".format(i+1)))\n",
    "        if Q_time < 1 or Q_time > np.power(10,6):\n",
    "            print (\"The time to read question {} is invalid, please enter a value between 1 and 1,000,000\".format(i+1))\n",
    "            question_time(i)\n",
    "        else:\n",
    "            T[i] = Q_time\n",
    "    return T\n",
    "T = []\n",
    "T = get_T()\n",
    "print (T)"
   ]
  },
  {
   "cell_type": "code",
   "execution_count": 5,
   "metadata": {
    "collapsed": false
   },
   "outputs": [
    {
     "name": "stdout",
     "output_type": "stream",
     "text": [
      "Enter the question related to: 1 9\n",
      "Enter the question related to: 2 3\n",
      "Enter the question related to: 3 4\n",
      "Enter the question related to: 4 5\n",
      "Enter the question related to: 5 4\n",
      "Enter the question related to: 6 4\n",
      "Enter the question related to: 7 6\n",
      "Enter the question related to: 8 1\n",
      "Enter the question related to: 9 3\n"
     ]
    }
   ],
   "source": [
    "class Question(object):\n",
    "    def __init__(self, number, time):\n",
    "        self.number = number\n",
    "        self.time = time\n",
    "        self.related = []\n",
    "    def add_related(self,relation):\n",
    "        self.related.append(relation)\n",
    "\n",
    "def create_question_data():\n",
    "    N_q = []\n",
    "    for i in range (0, N):\n",
    "        N_q.append(Question(i+1, T[i]))\n",
    "        N_q[i].related = []\n",
    "    for i in range (0, len(N_q)):\n",
    "        Rel = int(input(\"Enter the question related to: {} \".format(i+1)))\n",
    "        if Rel not in N_q[i].related:\n",
    "            N_q[i].add_related(Rel)\n",
    "        if i+1 not in N_q[Rel-1].related:\n",
    "            N_q[Rel-1].add_related(i+1)\n",
    "    return N_q\n",
    "N_q = create_question_data()"
   ]
  },
  {
   "cell_type": "code",
   "execution_count": 6,
   "metadata": {
    "collapsed": false
   },
   "outputs": [
    {
     "name": "stdout",
     "output_type": "stream",
     "text": [
      "1 1 [9, 8]\n",
      "2 2 [3]\n",
      "3 3 [2, 4, 9]\n",
      "4 4 [3, 5, 6]\n",
      "5 5 [4]\n",
      "6 6 [4, 7]\n",
      "7 7 [6]\n",
      "8 8 [1]\n",
      "9 9 [1, 3]\n"
     ]
    }
   ],
   "source": [
    "for i in range (0,len(N_q)):\n",
    "    print (N_q[i].number, N_q[i].time, N_q[i].related)"
   ]
  },
  {
   "cell_type": "code",
   "execution_count": 7,
   "metadata": {
    "collapsed": false
   },
   "outputs": [
    {
     "data": {
      "text/plain": [
       "1"
      ]
     },
     "execution_count": 7,
     "metadata": {},
     "output_type": "execute_result"
    }
   ],
   "source": [
    "path = [1, 9]\n",
    "nine_related = [1,3]\n",
    "sum (i not in path for i in nine_related)"
   ]
  },
  {
   "cell_type": "code",
   "execution_count": 66,
   "metadata": {
    "collapsed": false
   },
   "outputs": [],
   "source": [
    "def finding_path(N_q, begin, end, checkpoints, deadends, cp_count, path):\n",
    "        if begin not in path:\n",
    "            path.append(N_q[begin-1].number)\n",
    "        if end in path:\n",
    "            for q in range (0, len(N_q)+1):\n",
    "                deadends.append(q)\n",
    "            global cleaned\n",
    "            cleaned = []\n",
    "            cleaning = clean_end_data(path, end)\n",
    "            cleaned = (list(cleaning))\n",
    "        elif begin != end and sum (i not in path for i in N_q[begin-1].related) == 0:\n",
    "            use_cp(N_q, begin, end, checkpoints, deadends, cp_count, path)\n",
    "        else:\n",
    "            paths = []\n",
    "            if sum (j not in path and j not in deadends for j in N_q[begin-1].related) > 1:\n",
    "                checkpoints.append(list(path))\n",
    "                cp_count+=1\n",
    "            for k in N_q[begin-1].related:\n",
    "                if k not in path and k not in deadends:\n",
    "                    paths = finding_path(N_q, k, end, checkpoints, deadends, cp_count, path)\n",
    "    \n",
    "def clean_end_data(path, end):\n",
    "    tailored = []\n",
    "    for points in range (0, path.index(end)+1):\n",
    "        tailored.append(path[points])\n",
    "    cleaned = tailored\n",
    "    return cleaned\n",
    "\n",
    "    \n",
    "def use_cp(N_q, begin, end, checkpoints, deadends, cp_count, path):\n",
    "    for i in path:\n",
    "        if i not in checkpoints[cp_count]:\n",
    "            deadends.append(i)\n",
    "    path = checkpoints[cp_count]\n",
    "    del checkpoints[-1]\n",
    "    cp_count -= 1\n",
    "    restart = path[-1]\n",
    "    finding_path(N_q, restart, end, checkpoints, deadends, cp_count, path)\n",
    "\n",
    "def adding_paths(target):\n",
    "    all_paths_stuff = [0] * len(N_q)\n",
    "    counting = [0] * len(N_q)\n",
    "    for i in range (0, len(N_q)):\n",
    "        # Jupyter notebook stores function constants; therefore, this is a reset of variables\n",
    "        checkpoints = [0]\n",
    "        deadends =[]\n",
    "        cp_count= 0\n",
    "        path = []\n",
    "        finding_path(N_q, target+1, i+1, checkpoints, deadends, cp_count, path)\n",
    "        all_paths_stuff[i] = list(cleaned)\n",
    "    counter = [item for sublist in all_paths_stuff for item in sublist]\n",
    "    counting = [0] * len(N_q)\n",
    "    for i in range(0, len(counter)):\n",
    "        counting[counter[i]-1] +=1\n",
    "    sum = 0\n",
    "    for i in range(0, len(N_q)):\n",
    "        sum += (counting[i]* N_q[i].time)\n",
    "    average_time_for_path = sum/len(N_q)\n",
    "    return round(average_time_for_path, 1)"
   ]
  },
  {
   "cell_type": "code",
   "execution_count": 68,
   "metadata": {
    "collapsed": false
   },
   "outputs": [
    {
     "name": "stdout",
     "output_type": "stream",
     "text": [
      "The average times to get to each question for each starting question are [15.6, 13.2, 11.8, 12.7, 16.7, 16.4, 22.0, 22.6, 16.8].\n",
      "The question with the shortest average time to read to each other question is 3.\n"
     ]
    }
   ],
   "source": [
    "def avg_per_path():\n",
    "    times_for_start = [0] * len(N_q)\n",
    "    for i in range (0, len(N_q)):\n",
    "        times_for_start[i] = adding_paths(i)\n",
    "    print (\"The average times to get to each question for each starting question are {}.\".format(times_for_start))\n",
    "    return (times_for_start)\n",
    "\n",
    "def pick_best_start():\n",
    "    all_times_per_path = avg_per_path()\n",
    "    best_question = 1\n",
    "    for i in range (1, len(N_q)):\n",
    "        if all_times_per_path[i] < all_times_per_path[best_question-1]:\n",
    "            best_question = i\n",
    "    return (best_question)\n",
    "    \n",
    "best_start_question = pick_best_start()\n",
    "print (\"The question with the shortest average time to read to each other question is {}.\".format(best_start_question))"
   ]
  },
  {
   "cell_type": "code",
   "execution_count": null,
   "metadata": {
    "collapsed": false
   },
   "outputs": [],
   "source": []
  },
  {
   "cell_type": "code",
   "execution_count": null,
   "metadata": {
    "collapsed": false
   },
   "outputs": [],
   "source": []
  },
  {
   "cell_type": "code",
   "execution_count": null,
   "metadata": {
    "collapsed": true
   },
   "outputs": [],
   "source": []
  }
 ],
 "metadata": {
  "kernelspec": {
   "display_name": "Python 3",
   "language": "python",
   "name": "python3"
  },
  "language_info": {
   "codemirror_mode": {
    "name": "ipython",
    "version": 3
   },
   "file_extension": ".py",
   "mimetype": "text/x-python",
   "name": "python",
   "nbconvert_exporter": "python",
   "pygments_lexer": "ipython3",
   "version": "3.5.1"
  }
 },
 "nbformat": 4,
 "nbformat_minor": 0
}
